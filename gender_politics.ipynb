{
 "cells": [
  {
   "cell_type": "markdown",
   "metadata": {
    "colab_type": "text",
    "id": "avK2u2lIyZ_z"
   },
   "source": [
    "## TEXT MINING PROJECT - GENDER POLITICS - IORDACHE"
   ]
  },
  {
   "cell_type": "code",
   "execution_count": 1,
   "metadata": {
    "colab": {},
    "colab_type": "code",
    "id": "fXjcE4btyZ_0"
   },
   "outputs": [
    {
     "name": "stderr",
     "output_type": "stream",
     "text": [
      "/home/alice/.local/lib/python3.7/site-packages/tqdm/std.py:658: FutureWarning: The Panel class is removed from pandas. Accessing it from the top-level namespace will also be removed in the next version\n",
      "  from pandas import Panel\n"
     ]
    }
   ],
   "source": [
    "import pandas as pd\n",
    "import numpy as np\n",
    "\n",
    "from tqdm import tqdm\n",
    "tqdm.pandas()"
   ]
  },
  {
   "cell_type": "code",
   "execution_count": 2,
   "metadata": {
    "colab": {},
    "colab_type": "code",
    "id": "70NFm83vyZ_5"
   },
   "outputs": [],
   "source": [
    "dataset = pd.read_csv(\"/home/alice/Desktop/text mining project/convocationsReportResult.csv\", sep = \";\")"
   ]
  },
  {
   "cell_type": "code",
   "execution_count": 3,
   "metadata": {
    "colab": {
     "base_uri": "https://localhost:8080/",
     "height": 202
    },
    "colab_type": "code",
    "id": "zcKD-AG2yZ_8",
    "outputId": "0ed85bda-6679-4869-d658-b4c807f540a3"
   },
   "outputs": [
    {
     "data": {
      "text/html": [
       "<div>\n",
       "<style scoped>\n",
       "    .dataframe tbody tr th:only-of-type {\n",
       "        vertical-align: middle;\n",
       "    }\n",
       "\n",
       "    .dataframe tbody tr th {\n",
       "        vertical-align: top;\n",
       "    }\n",
       "\n",
       "    .dataframe thead th {\n",
       "        text-align: right;\n",
       "    }\n",
       "</style>\n",
       "<table border=\"1\" class=\"dataframe\">\n",
       "  <thead>\n",
       "    <tr style=\"text-align: right;\">\n",
       "      <th></th>\n",
       "      <th>id</th>\n",
       "      <th>convocationid</th>\n",
       "      <th>downloadtime</th>\n",
       "      <th>text</th>\n",
       "    </tr>\n",
       "  </thead>\n",
       "  <tbody>\n",
       "    <tr>\n",
       "      <th>0</th>\n",
       "      <td>9555</td>\n",
       "      <td>14593</td>\n",
       "      <td>2020-03-06 19:56:43.847</td>\n",
       "      <td>A t t i  Parlamentari  - 3016 - Camera dei Dep...</td>\n",
       "    </tr>\n",
       "    <tr>\n",
       "      <th>1</th>\n",
       "      <td>9480</td>\n",
       "      <td>14494</td>\n",
       "      <td>2020-03-06 19:55:34.845</td>\n",
       "      <td>C A M E R A  DEI DEPUTATI \\nI. \\nSEDUTA ANTIHE...</td>\n",
       "    </tr>\n",
       "    <tr>\n",
       "      <th>2</th>\n",
       "      <td>9481</td>\n",
       "      <td>14495</td>\n",
       "      <td>2020-03-06 19:55:34.984</td>\n",
       "      <td>Aiti Parlahentarì - 7 -  Caniera dei Deputali ...</td>\n",
       "    </tr>\n",
       "    <tr>\n",
       "      <th>3</th>\n",
       "      <td>9482</td>\n",
       "      <td>14497</td>\n",
       "      <td>2020-03-06 19:55:36.212</td>\n",
       "      <td>Atti ' Parlamentari - 15 - Camera dei Deputati...</td>\n",
       "    </tr>\n",
       "    <tr>\n",
       "      <th>4</th>\n",
       "      <td>9483</td>\n",
       "      <td>14498</td>\n",
       "      <td>2020-03-06 19:55:36.343</td>\n",
       "      <td>Atti Parlamentari - 59 - Camera dei Deputali \\...</td>\n",
       "    </tr>\n",
       "  </tbody>\n",
       "</table>\n",
       "</div>"
      ],
      "text/plain": [
       "     id  convocationid             downloadtime  \\\n",
       "0  9555          14593  2020-03-06 19:56:43.847   \n",
       "1  9480          14494  2020-03-06 19:55:34.845   \n",
       "2  9481          14495  2020-03-06 19:55:34.984   \n",
       "3  9482          14497  2020-03-06 19:55:36.212   \n",
       "4  9483          14498  2020-03-06 19:55:36.343   \n",
       "\n",
       "                                                text  \n",
       "0  A t t i  Parlamentari  - 3016 - Camera dei Dep...  \n",
       "1  C A M E R A  DEI DEPUTATI \\nI. \\nSEDUTA ANTIHE...  \n",
       "2  Aiti Parlahentarì - 7 -  Caniera dei Deputali ...  \n",
       "3  Atti ' Parlamentari - 15 - Camera dei Deputati...  \n",
       "4  Atti Parlamentari - 59 - Camera dei Deputali \\...  "
      ]
     },
     "execution_count": 3,
     "metadata": {},
     "output_type": "execute_result"
    }
   ],
   "source": [
    "dataset.head()"
   ]
  },
  {
   "cell_type": "markdown",
   "metadata": {
    "colab_type": "text",
    "id": "rPALFCPEyaAA"
   },
   "source": [
    "We define a function called \"ottieni testo\".\n",
    "We take the very same columns we have and ask the function to split the text (therefore, the variable x becomes the dataframe) whenever it finds \"La seduta comincia\", since by looking at the text we we found this recursive pattern. Normally after the \"La seduta comincia\" we have a space and a timestamp; it is in position \"\\n\". Therefore, we need to remove everything that part (pos = test.find(\"\\n\"), whenever it finds that specific expression.\n",
    "Moreover, we created two new columns called \"testo_seduta\" and \"pulito\": we need the frist in order to have the text of each session without everything that comes before it on the page; we need \"pulito\" column just as a boolean in order to make a count of how many sessions (documents) it cannot recognize through the pattern we just saw."
   ]
  },
  {
   "cell_type": "code",
   "execution_count": 4,
   "metadata": {
    "colab": {},
    "colab_type": "code",
    "id": "41O6tcZ3yaAA"
   },
   "outputs": [],
   "source": [
    "def ottieni_testo(x):\n",
    "    col = ['id', 'convocationid', 'downloadtime', 'text', 'testo_seduta', 'pulito']\n",
    "    splitted = x.text.split(\"La seduta comincia\")\n",
    "\n",
    "    if len(splitted) == 2:\n",
    "        testo = splitted[1]\n",
    "        pos = testo.find(\"\\n\")\n",
    "\n",
    "        end = -1\n",
    "        if 'PAGINA BIANCA' in testo:\n",
    "            end = testo.find('PAGINA BIANCA')\n",
    "\n",
    "        if end != -1:\n",
    "            return pd.Series([x.id, x.convocationid, x.downloadtime, x.text, testo[pos + 1:end], True], index=col) \n",
    "        else:\n",
    "            return pd.Series([x.id, x.convocationid, x.downloadtime, x.text, testo[pos + 1:], True], index=col) \n",
    "        \n",
    "    else:\n",
    "        return pd.Series([x.id, x.convocationid, x.downloadtime, x.text, x.text, False],index=col)"
   ]
  },
  {
   "cell_type": "code",
   "execution_count": 5,
   "metadata": {
    "colab": {
     "base_uri": "https://localhost:8080/",
     "height": 35
    },
    "colab_type": "code",
    "id": "CrwxS8G4yaAE",
    "outputId": "511ea109-c83f-4415-b6d7-f229040529fd"
   },
   "outputs": [
    {
     "name": "stderr",
     "output_type": "stream",
     "text": [
      "100%|██████████| 3736/3736 [00:03<00:00, 1058.50it/s]\n"
     ]
    }
   ],
   "source": [
    "dataset = dataset.progress_apply(ottieni_testo, axis=1)"
   ]
  },
  {
   "cell_type": "code",
   "execution_count": 6,
   "metadata": {
    "colab": {
     "base_uri": "https://localhost:8080/",
     "height": 287
    },
    "colab_type": "code",
    "id": "geldU6VmyaAH",
    "outputId": "5239ced0-def1-4b22-b38c-e42c54d6ed38"
   },
   "outputs": [
    {
     "data": {
      "text/html": [
       "<div>\n",
       "<style scoped>\n",
       "    .dataframe tbody tr th:only-of-type {\n",
       "        vertical-align: middle;\n",
       "    }\n",
       "\n",
       "    .dataframe tbody tr th {\n",
       "        vertical-align: top;\n",
       "    }\n",
       "\n",
       "    .dataframe thead th {\n",
       "        text-align: right;\n",
       "    }\n",
       "</style>\n",
       "<table border=\"1\" class=\"dataframe\">\n",
       "  <thead>\n",
       "    <tr style=\"text-align: right;\">\n",
       "      <th></th>\n",
       "      <th>id</th>\n",
       "      <th>convocationid</th>\n",
       "      <th>downloadtime</th>\n",
       "      <th>text</th>\n",
       "      <th>testo_seduta</th>\n",
       "      <th>pulito</th>\n",
       "    </tr>\n",
       "  </thead>\n",
       "  <tbody>\n",
       "    <tr>\n",
       "      <th>0</th>\n",
       "      <td>9555</td>\n",
       "      <td>14593</td>\n",
       "      <td>2020-03-06 19:56:43.847</td>\n",
       "      <td>A t t i  Parlamentari  - 3016 - Camera dei Dep...</td>\n",
       "      <td>CUADALUPI, Segrctnrio, legge i I pro- \\ncesso ...</td>\n",
       "      <td>True</td>\n",
       "    </tr>\n",
       "    <tr>\n",
       "      <th>1</th>\n",
       "      <td>9480</td>\n",
       "      <td>14494</td>\n",
       "      <td>2020-03-06 19:55:34.845</td>\n",
       "      <td>C A M E R A  DEI DEPUTATI \\nI. \\nSEDUTA ANTIHE...</td>\n",
       "      <td>Costituzione deU’UBcio provvisorio \\ndi Presid...</td>\n",
       "      <td>True</td>\n",
       "    </tr>\n",
       "    <tr>\n",
       "      <th>2</th>\n",
       "      <td>9481</td>\n",
       "      <td>14495</td>\n",
       "      <td>2020-03-06 19:55:34.984</td>\n",
       "      <td>Aiti Parlahentarì - 7 -  Caniera dei Deputali ...</td>\n",
       "      <td>Insediamento e discorsb del Presidente. \\nPRES...</td>\n",
       "      <td>True</td>\n",
       "    </tr>\n",
       "    <tr>\n",
       "      <th>3</th>\n",
       "      <td>9482</td>\n",
       "      <td>14497</td>\n",
       "      <td>2020-03-06 19:55:36.212</td>\n",
       "      <td>Atti ' Parlamentari - 15 - Camera dei Deputati...</td>\n",
       "      <td>RICCIO, Segretario, legge il processo ver- \\nb...</td>\n",
       "      <td>True</td>\n",
       "    </tr>\n",
       "    <tr>\n",
       "      <th>4</th>\n",
       "      <td>9483</td>\n",
       "      <td>14498</td>\n",
       "      <td>2020-03-06 19:55:36.343</td>\n",
       "      <td>Atti Parlamentari - 59 - Camera dei Deputali \\...</td>\n",
       "      <td>SULLO, Segretario, leg3e il processo ver- \\n(E...</td>\n",
       "      <td>True</td>\n",
       "    </tr>\n",
       "  </tbody>\n",
       "</table>\n",
       "</div>"
      ],
      "text/plain": [
       "     id  convocationid             downloadtime  \\\n",
       "0  9555          14593  2020-03-06 19:56:43.847   \n",
       "1  9480          14494  2020-03-06 19:55:34.845   \n",
       "2  9481          14495  2020-03-06 19:55:34.984   \n",
       "3  9482          14497  2020-03-06 19:55:36.212   \n",
       "4  9483          14498  2020-03-06 19:55:36.343   \n",
       "\n",
       "                                                text  \\\n",
       "0  A t t i  Parlamentari  - 3016 - Camera dei Dep...   \n",
       "1  C A M E R A  DEI DEPUTATI \\nI. \\nSEDUTA ANTIHE...   \n",
       "2  Aiti Parlahentarì - 7 -  Caniera dei Deputali ...   \n",
       "3  Atti ' Parlamentari - 15 - Camera dei Deputati...   \n",
       "4  Atti Parlamentari - 59 - Camera dei Deputali \\...   \n",
       "\n",
       "                                        testo_seduta  pulito  \n",
       "0  CUADALUPI, Segrctnrio, legge i I pro- \\ncesso ...    True  \n",
       "1  Costituzione deU’UBcio provvisorio \\ndi Presid...    True  \n",
       "2  Insediamento e discorsb del Presidente. \\nPRES...    True  \n",
       "3  RICCIO, Segretario, legge il processo ver- \\nb...    True  \n",
       "4  SULLO, Segretario, leg3e il processo ver- \\n(E...    True  "
      ]
     },
     "execution_count": 6,
     "metadata": {},
     "output_type": "execute_result"
    }
   ],
   "source": [
    "dataset.head()"
   ]
  },
  {
   "cell_type": "code",
   "execution_count": 7,
   "metadata": {
    "colab": {
     "base_uri": "https://localhost:8080/",
     "height": 70
    },
    "colab_type": "code",
    "id": "8fbbgMk6yaAO",
    "outputId": "c3fd8ea9-4158-48ba-ad13-cc47ecada694"
   },
   "outputs": [
    {
     "data": {
      "text/plain": [
       "True     3579\n",
       "False     157\n",
       "Name: pulito, dtype: int64"
      ]
     },
     "execution_count": 7,
     "metadata": {},
     "output_type": "execute_result"
    }
   ],
   "source": [
    "#Let's count the booleans.\n",
    "dataset.pulito.value_counts()"
   ]
  },
  {
   "cell_type": "code",
   "execution_count": 8,
   "metadata": {
    "colab": {},
    "colab_type": "code",
    "id": "6mE7gtszyaAR"
   },
   "outputs": [],
   "source": [
    "#Let's check the sessions that it didn't recognize.\n",
    "non_puliti = dataset[dataset['pulito']==False]"
   ]
  },
  {
   "cell_type": "markdown",
   "metadata": {
    "colab_type": "text",
    "id": "_x8gTLHI1KlY"
   },
   "source": [
    "Now we try to extract the sessions.\n",
    "Take a random example:"
   ]
  },
  {
   "cell_type": "code",
   "execution_count": 9,
   "metadata": {
    "colab": {
     "base_uri": "https://localhost:8080/",
     "height": 1000
    },
    "colab_type": "code",
    "id": "zypr_p9X1QST",
    "outputId": "4293e77d-1ed1-47e6-b9f2-e297ee966ca4"
   },
   "outputs": [
    {
     "name": "stdout",
     "output_type": "stream",
     "text": [
      "PRESIDENTE. La seduta è aperta.\n",
      "Invito il deputato segretario a dare\n",
      "lettura del processo verbale della seduta\n",
      "precedente.\n",
      "RAFFAELLO VIGNALI, Segretario,\n",
      "legge il processo verbale della seduta del\n",
      "21 dicembre 2016.\n",
      "PRESIDENTE. Se non vi sono osserva-\n",
      "zioni, il processo verbale si intende ap-\n",
      "provato.\n",
      "(È approvato).\n",
      "Missioni.\n",
      "PRESIDENTE. Comunico che, ai sensi\n",
      "dell’articolo 46, comma 2, del Regola-\n",
      "mento, i deputati Boschi, Fontanelli, Lo-\n",
      "sacco e Orlando sono in missione a de-\n",
      "correre dalla seduta odierna.\n",
      "I deputati in missione sono complessi-\n",
      "vamente nove, come risulta dall’elenco\n",
      "depositato presso la Presidenza e che sarà\n",
      "pubblicato nell’allegato A al resoconto\n",
      "della seduta odierna (Ulteriori comunica-\n",
      "zioni all’Assemblea saranno pubblicate nel-\n",
      "l’allegato A al resoconto della seduta\n",
      "odierna).\n",
      "Annunzio della presentazione di disegni di\n",
      "legge di conversione e loro assegna-\n",
      "zione a Commissioni in sede referente\n",
      "(ore 11,05).\n",
      "PRESIDENTE. La Ministra per i rap-\n",
      "porti con il Parlamento, con lettere in data\n",
      "30 dicembre 2016, ha presentato alla Pre-\n",
      "sidenza i seguenti disegni di legge, che\n",
      "sono stati assegnati, ai sensi dell’articolo\n",
      "96-bis, comma 1, del Regolamento, in sede\n",
      "referente, alle sottoindicate Commissioni:\n",
      "alla Commissione V (Bilancio): « Con-\n",
      "versione in legge del decreto-legge 29 di-\n",
      "cembre 2016, n. 243, recante Interventi\n",
      "urgenti per la coesione sociale e territo-\n",
      "riale, con particolare riferimento a situa-\n",
      "zioni critiche in alcune aree del Mezzo-\n",
      "giorno » (4200) – Parere delle Commissioni\n",
      "I, II, III, VI, VII, VIII (ex articolo 73,\n",
      "comma 1-bis, del Regolamento), IX, X, XI\n",
      "(ex articolo 73, comma 1-bis, del Regola-\n",
      "mento), XII e XIV e della Commissione\n",
      "parlamentare per le questioni regionali;\n",
      "alle Commissioni riunite I (Affari\n",
      "costituzionali) e V (Bilancio): « Conver-\n",
      "sione in legge del decreto-legge 30 dicem-\n",
      "bre 2016, n. 244, recante proroga e defi-\n",
      "nizione di termini » (4201) – Parere delle\n",
      "Commissioni II, IV, VI (ex articolo 73,\n",
      "comma 1-bis, del Regolamento, per gli\n",
      "aspetti attinenti alla materia tributaria),\n",
      "VII, VIII, IX, X, XI, XII, XIII e XIV e della\n",
      "Commissione parlamentare per le questioni\n",
      "regionali.\n",
      "I suddetti disegni di legge, ai fini del-\n",
      "l’espressione del parere previsto dal\n",
      "RESOCONTO STENOGRAFICO\n",
      "Atti Parlamentari — 1 — Camera dei Deputati\n",
      "XVII LEGISLATURA — DISCUSSIONI — SEDUTA DEL 4 GENNAIO 2017 — N. 719\n",
      "comma 1 del predetto articolo 96-bis, sono\n",
      "stati altresì assegnati al Comitato per la\n",
      "legislazione.\n",
      "Annunzio della nomina di sottosegretari\n",
      "di Stato (ore 11,06).\n",
      "PRESIDENTE. Il Presidente del Consi-\n",
      "glio dei Ministri, con lettera in data 29\n",
      "dicembre 2016, pervenuta il 30 dicembre\n",
      "2016, ha comunicato quanto segue: « Ono-\n",
      "revole Presidente, informo la S.V. che il\n",
      "Presidente della Repubblica, con proprio\n",
      "decreto in data odierna, adottato su mia\n",
      "proposta, sentito il Consiglio dei Ministri,\n",
      "ha nominato i seguenti Sottosegretari di\n",
      "Stato: alla Presidenza del Consiglio dei\n",
      "Ministri: onorevole dottoressa Maria Te-\n",
      "resa Amici; onorevole Gianclaudio Bressa;\n",
      "onorevole dottor Sandro Gozi; senatore\n",
      "Luciano Pizzetti; onorevole dottor Angelo\n",
      "Rughetti; per gli Affari esteri e la coope-\n",
      "razione internazionale: onorevole Vin-\n",
      "cenzo Amendola; senatore dottor Bene-\n",
      "detto Della Vedova; dottor Mario Giro; per\n",
      "l’Interno: onorevole dottor Gianpiero\n",
      "Bocci; senatore dottor Filippo Bubbico;\n",
      "dottor Domenico Manzione; per la Giusti-\n",
      "zia: senatrice Federica Chiavaroli; dottor\n",
      "Cosimo Maria Ferri; onorevole dottor\n",
      "Gennaro Migliore; per la Difesa: onorevole\n",
      "dottor Gioacchino Alfano; onorevole dot-\n",
      "tor Domenico Rossi; per l’Economia e le\n",
      "finanze: onorevole Pier Paolo Baretta;\n",
      "onorevole dottor Luigi Casero; onorevole\n",
      "dottoressa Paola De Micheli; dottor Enrico\n",
      "Morando; per lo Sviluppo economico: ono-\n",
      "revole Teresa Bellanova; senatore dottor\n",
      "Antonio Gentile; onorevole Antonello Gia-\n",
      "comelli; onorevole dottor Ivan Scalfarotto;\n",
      "per le Politiche agricole alimentari e fo-\n",
      "restali: onorevole Giuseppe Castiglione; se-\n",
      "natore professor Andrea Olivero; per\n",
      "l’Ambiente e la tutela del territorio e del\n",
      "mare: signora Barbara Degani; onorevole\n",
      "dottoressa Silvia Velo; per le Infrastrutture\n",
      "e i trasporti: onorevole avvocato Umberto\n",
      "Del Basso De Caro; senatore Riccardo\n",
      "Nencini; senatrice dottoressa Simona Vi-\n",
      "cari; per il Lavoro e le politiche sociali:\n",
      "onorevole Franca Biondelli; onorevole dot-\n",
      "tor Luigi Bobba; senatore dottor Massimo\n",
      "Cassano; per l’Istruzione, l’università e la\n",
      "ricerca: dottor Vito De Filippo; senatrice\n",
      "Angela D’Onghia; dottor Gabriele Tocca-\n",
      "fondi; per i Beni e le attività culturali e il\n",
      "turismo: onorevole dottoressa Dorina\n",
      "Bianchi; onorevole dottoressa Ilaria Carla\n",
      "Anna Borletti Dell’Acqua Buitoni; onore-\n",
      "vole dottor Antimo Cesaro; per la Salute:\n",
      "onorevole Davide Faraone.\n",
      "Firmato: Paolo Gentiloni ».\n",
      "Modifica nella composizione di gruppi\n",
      "parlamentari (ore 11.08).\n",
      "PRESIDENTE. Comunico che, con let-\n",
      "tera pervenuta in data 29 dicembre 2016,\n",
      "il deputato Bruno Murgia, già iscritto al\n",
      "gruppo parlamentare Misto, ha dichiarato\n",
      "di aderire al gruppo parlamentare Fratelli\n",
      "d’Italia-Alleanza Nazionale.\n",
      "La presidenza di tale gruppo, con let-\n",
      "tera pervenuta in pari data, ha comunicato\n",
      "di aver accolto la richiesta.\n",
      "Ordine del giorno\n",
      "della prossima seduta.\n",
      "PRESIDENTE. Comunico l’ordine del\n",
      "giorno della prossima seduta.\n",
      "Lunedì 9 gennaio 2017, alle 15,30:\n",
      "1. – Discussione sulle linee generali dei\n",
      "disegni di legge:\n",
      "S. 1732 – Ratifica ed esecuzione\n",
      "dell’Accordo di cooperazione nel settore\n",
      "della difesa tra il Governo della Repub-\n",
      "blica italiana e l’Esecutivo della Repub-\n",
      "blica dell’Angola, fatto a Roma il 19 no-\n",
      "vembre 2013 (Approvato dal Senato) (C.\n",
      "3946).\n",
      "Relatori: Fedi, per la maggioranza;\n",
      "Gianluca Pini, di minoranza.\n",
      "Ratifica ed esecuzione dell’Accordo\n",
      "sulla cooperazione e mutua assistenza am-\n",
      "ministrativa in materia doganale tra il\n",
      "Atti Parlamentari — 2 — Camera dei Deputati\n",
      "XVII LEGISLATURA — DISCUSSIONI — SEDUTA DEL 4 GENNAIO 2017 — N. 719\n",
      "Governo della Repubblica italiana e il\n",
      "Governo della Repubblica socialista del\n",
      "Vietnam, fatto a Hanoi il 6 novembre 2015\n",
      "(C. 4039).\n",
      "Relatore: Fedi.\n",
      "S. 2525 – Ratifica ed esecuzione del\n",
      "Protocollo al Trattato del Nord Atlantico\n",
      "sull’adesione del Montenegro, fatto a Bru-\n",
      "xelles il 19 maggio 2016 (Approvato dal\n",
      "Senato) (C. 4108).\n",
      "Relatori: Manciulli, per la maggioranza;\n",
      "Gianluca Pini, di minoranza.\n",
      "2. – Discussione sulle linee generali\n",
      "della mozione Brunetta e Laffranco n. 1-\n",
      "01452 concernente iniziative in relazione\n",
      "alla crisi del sistema bancario.\n",
      "3. – Discussione sulle linee generali\n",
      "della proposta di legge costituzionale:\n",
      "ALFREIDER ed altri: Modifiche allo\n",
      "statuto speciale per il Trentino-Alto Adige\n",
      "in materia di tutela della minoranza lin-\n",
      "guistica ladina della provincia di Bolzano\n",
      "(C. 56-A).\n",
      "Relatore: Francesco Sanna.\n",
      "La seduta termina alle 11,10.\n",
      "IL CONSIGLIERE CAPO\n",
      "DEL SERVIZIO RESOCONTI\n",
      "ESTENSORE DEL PROCESSO VERBALE\n",
      "DOTT. RENZO DICKMANN\n",
      "Licenziato per la stampa alle 13.\n",
      "Atti Parlamentari — 3 — Camera dei Deputati\n",
      "XVII LEGISLATURA — DISCUSSIONI — SEDUTA DEL 4 GENNAIO 2017 — N. 719\n",
      "\n"
     ]
    }
   ],
   "source": [
    "print(dataset.testo_seduta[2500])"
   ]
  },
  {
   "cell_type": "markdown",
   "metadata": {
    "colab_type": "text",
    "id": "uX6uxQvUiNf_"
   },
   "source": [
    "#### Regex:\n",
    "\n",
    "Round brakets contain the groups that will be matched: everything inside the brakets will be reported as a result. But, we don't want also the cases in which it only finds \"\\n\"; for this reason, we write \"?:\" in the brakets, to indicate that we look for that group, but we don't write it in the result.\n",
    "\n",
    "The \"+\" sign means find at least one occurence of everything that comes before.\n",
    "\n",
    "\"\\b\" is the word boundary; it indicates that the characters we are looking for need to be part of a word.\n",
    "\n",
    "\"[A-Z ]\" is a range: it finds all the characters from the alphanumeric alphabet from A to Z (capital letters only!).\n",
    "Note*: there is a space inside the square brakets; it means that we accept a word even if it is followed by a space. We need this, because after the brakets we have \"+\"; therefore, we accept more than just one word in capital letters followed by one another (ex: NAME SURNAME).\n",
    "\n",
    "\n",
    "The regex finds for all the words in capital letters, repeated or not, preceded by \"\\n\", because the interventions start on a new line like this:\n",
    "NAME SURNAME intervention text etc\n",
    "\n",
    "The result of this regex is a list of \"match object\" which has three elements in this case: the NAME SURNAME of each person speaking, the position in the original text where the NAME begins (the N of NAME)and the position in the original text where the SURNAME ends (the E of SURNAME)."
   ]
  },
  {
   "cell_type": "code",
   "execution_count": 10,
   "metadata": {
    "colab": {},
    "colab_type": "code",
    "id": "NgxTDFcvyaAT"
   },
   "outputs": [],
   "source": [
    "import re\n",
    "\n",
    "pattern = r\"(?:\\n)+(\\b[A-Z ]+\\b)\"\n",
    "l = re.finditer(pattern, dataset.testo_seduta[2500])"
   ]
  },
  {
   "cell_type": "markdown",
   "metadata": {
    "colab_type": "text",
    "id": "o0zZ3gGfuNF_"
   },
   "source": [
    "We see that sometimes we can find roman numbers ( I, III; XVII, etc). Our regex would recognize them as NAME SURNAME, but we don't need that.\n",
    "Therefore, we use this (taken from): https://www.oreilly.com/library/view/regular-expressions-cookbook/9780596802837/ch06s09.html"
   ]
  },
  {
   "cell_type": "code",
   "execution_count": 11,
   "metadata": {
    "colab": {},
    "colab_type": "code",
    "id": "5ssv_aDtuLQW"
   },
   "outputs": [],
   "source": [
    "def isRomanNumber(x):\n",
    "    roman_result = re.match(r\"^(?=[MDCLXVI])M*(C[MD]|D?C{0,3})(X[CL]|L?X{0,3})(I[XV]|V?I{0,3})$\", x)\n",
    "  \n",
    "    if roman_result is not None:\n",
    "        return True\n",
    "    else:\n",
    "        return False"
   ]
  },
  {
   "cell_type": "markdown",
   "metadata": {
    "colab_type": "text",
    "id": "yiLnXpLmzH43"
   },
   "source": [
    "`l` is an iterator which consumes when we use it (vuol dire che fatto un ciclo di for su `l`, per poterci lavorare ancora devo riottenere nuovamente `l`).\n",
    "We therefore organize our results in a list like '[nome cognome, idx start, idx end]'.\n",
    "Meanwhile, we filter the text by removing those results which consist only of \"\\n\", a roman number, or any of the words we just list below:"
   ]
  },
  {
   "cell_type": "code",
   "execution_count": 12,
   "metadata": {
    "colab": {},
    "colab_type": "code",
    "id": "NNhUikZ_yaAa"
   },
   "outputs": [],
   "source": [
    "custom_stopwords = ['LEGISLATURA', 'PAGINA BIANCA', 'STENOGRAFICO', 'STENOGRAFIA', 'TIPOGRAFIA']\n",
    "\n",
    "results = []\n",
    "for cacca in l:\n",
    "    name = str(cacca.group(0)).strip()\n",
    "\n",
    "    if name != '\\\\n' and (len(name) > 1) and not any(x in name for x in custom_stopwords) and not isRomanNumber(name):\n",
    "        results.append([name, cacca.start(), cacca.end()])"
   ]
  },
  {
   "cell_type": "markdown",
   "metadata": {
    "colab_type": "text",
    "id": "7zaI5DgYztl2"
   },
   "source": [
    "There may be cases when during the split we got some capital letter words, but they are not the name of a deputy starting to talk (for example: they may be references or quotations of past laws or amendments).\n",
    "These words come one next to the other: I have a list of words in a row and in the next line other words (still in capital letters) that I got in the results. By checking the original position of these words in the original text, I can remove them from the results and subsequently filter."
   ]
  },
  {
   "cell_type": "code",
   "execution_count": 13,
   "metadata": {
    "colab": {
     "base_uri": "https://localhost:8080/",
     "height": 88
    },
    "colab_type": "code",
    "id": "LBwS9QiLudBt",
    "outputId": "ddf245f2-9112-4e6d-afa4-776e4a793c8e"
   },
   "outputs": [
    {
     "data": {
      "text/plain": [
       "[['DOTT', 6863, 6868],\n",
       " ['ESTENSORE DEL PROCESSO VERBALE', 6832, 6863],\n",
       " ['DEL SERVIZIO RESOCONTI', 6809, 6832],\n",
       " ['IL CONSIGLIERE CAPO', 6789, 6809]]"
      ]
     },
     "execution_count": 13,
     "metadata": {},
     "output_type": "execute_result"
    }
   ],
   "source": [
    "toRemove = []\n",
    "\n",
    "for i, item in enumerate(results):\n",
    "    if i+1 < len(results):\n",
    "        if item[2] == results[i+1][1]:\n",
    "            if i not in toRemove:\n",
    "                toRemove.append(i)\n",
    "\n",
    "            if i+1 not in toRemove:\n",
    "                toRemove.append(i+1)\n",
    "\n",
    "[results.pop(i) for i in sorted(toRemove, reverse=True)]"
   ]
  },
  {
   "cell_type": "markdown",
   "metadata": {
    "colab_type": "text",
    "id": "8E0UKZOH0G9N"
   },
   "source": [
    "In this way we obtained all the names of the speaking deputies. \n",
    "NB: in this case, ALFREIDER is quoted, but it is not a deputy who speaks. One possible next solution would be to download with SPARQL the names of the deputies of the assembly (in order to do that we need to resort to the id_session present in the other csv. From there we can obtain the reference to the assembly) and filter again: if we get a result that is not in the list of the deputies for that assembly, we remove it.\n",
    "Next step: we get the index where a person starts talking; now we extract the text."
   ]
  },
  {
   "cell_type": "code",
   "execution_count": 14,
   "metadata": {
    "colab": {
     "base_uri": "https://localhost:8080/",
     "height": 158
    },
    "colab_type": "code",
    "id": "UPY2Jrpl-ghX",
    "outputId": "132a6307-a369-411c-fbc0-34b406e7bdb4"
   },
   "outputs": [
    {
     "name": "stdout",
     "output_type": "stream",
     "text": [
      "RAFFAELLO VIGNALI: 140-122\n",
      "PRESIDENTE: 225-214\n",
      "PRESIDENTE: 337-326\n",
      "PRESIDENTE: 949-938\n",
      "PRESIDENTE: 2542-2531\n",
      "PRESIDENTE: 4854-4843\n",
      "PRESIDENTE: 5238-5227\n",
      "ALFREIDER: 6568-6557\n"
     ]
    }
   ],
   "source": [
    "for item in results:\n",
    "    print('%s: %02d-%02d' % (item[0], item[2], item[1]))"
   ]
  },
  {
   "cell_type": "code",
   "execution_count": 15,
   "metadata": {
    "colab": {},
    "colab_type": "code",
    "id": "SOLb9wKUwCk8"
   },
   "outputs": [],
   "source": [
    "text = dataset.testo_seduta[2500]\n",
    "\n",
    "discorsi = []\n",
    "for i, item in enumerate(results):\n",
    "    if i+1 < len(results):\n",
    "        discorso = text[item[2]:results[i+1][1]]\n",
    "    elif i+1 == len(results):\n",
    "        discorso = text[item[2]:]\n",
    "\n",
    "    discorsi.append([item[0], discorso])"
   ]
  },
  {
   "cell_type": "code",
   "execution_count": 16,
   "metadata": {
    "colab": {
     "base_uri": "https://localhost:8080/",
     "height": 320
    },
    "colab_type": "code",
    "id": "pVTU0Fz43VNm",
    "outputId": "6550ea6e-a726-4632-ecb4-67e408d7cb62"
   },
   "outputs": [
    {
     "data": {
      "text/plain": [
       "[['RAFFAELLO VIGNALI',\n",
       "  ', Segretario,\\nlegge il processo verbale della seduta del\\n21 dicembre 2016.'],\n",
       " ['PRESIDENTE',\n",
       "  '. Se non vi sono osserva-\\nzioni, il processo verbale si intende ap-\\nprovato.\\n(È approvato).\\nMissioni.'],\n",
       " ['PRESIDENTE',\n",
       "  '. Comunico che, ai sensi\\ndell’articolo 46, comma 2, del Regola-\\nmento, i deputati Boschi, Fontanelli, Lo-\\nsacco e Orlando sono in missione a de-\\ncorrere dalla seduta odierna.\\nI deputati in missione sono complessi-\\nvamente nove, come risulta dall’elenco\\ndepositato presso la Presidenza e che sarà\\npubblicato nell’allegato A al resoconto\\ndella seduta odierna (Ulteriori comunica-\\nzioni all’Assemblea saranno pubblicate nel-\\nl’allegato A al resoconto della seduta\\nodierna).\\nAnnunzio della presentazione di disegni di\\nlegge di conversione e loro assegna-\\nzione a Commissioni in sede referente\\n(ore 11,05).'],\n",
       " ['PRESIDENTE',\n",
       "  '. La Ministra per i rap-\\nporti con il Parlamento, con lettere in data\\n30 dicembre 2016, ha presentato alla Pre-\\nsidenza i seguenti disegni di legge, che\\nsono stati assegnati, ai sensi dell’articolo\\n96-bis, comma 1, del Regolamento, in sede\\nreferente, alle sottoindicate Commissioni:\\nalla Commissione V (Bilancio): « Con-\\nversione in legge del decreto-legge 29 di-\\ncembre 2016, n. 243, recante Interventi\\nurgenti per la coesione sociale e territo-\\nriale, con particolare riferimento a situa-\\nzioni critiche in alcune aree del Mezzo-\\ngiorno » (4200) – Parere delle Commissioni\\nI, II, III, VI, VII, VIII (ex articolo 73,\\ncomma 1-bis, del Regolamento), IX, X, XI\\n(ex articolo 73, comma 1-bis, del Regola-\\nmento), XII e XIV e della Commissione\\nparlamentare per le questioni regionali;\\nalle Commissioni riunite I (Affari\\ncostituzionali) e V (Bilancio): « Conver-\\nsione in legge del decreto-legge 30 dicem-\\nbre 2016, n. 244, recante proroga e defi-\\nnizione di termini » (4201) – Parere delle\\nCommissioni II, IV, VI (ex articolo 73,\\ncomma 1-bis, del Regolamento, per gli\\naspetti attinenti alla materia tributaria),\\nVII, VIII, IX, X, XI, XII, XIII e XIV e della\\nCommissione parlamentare per le questioni\\nregionali.\\nI suddetti disegni di legge, ai fini del-\\nl’espressione del parere previsto dal\\nRESOCONTO STENOGRAFICO\\nAtti Parlamentari — 1 — Camera dei Deputati\\nXVII LEGISLATURA — DISCUSSIONI — SEDUTA DEL 4 GENNAIO 2017 — N. 719\\ncomma 1 del predetto articolo 96-bis, sono\\nstati altresì assegnati al Comitato per la\\nlegislazione.\\nAnnunzio della nomina di sottosegretari\\ndi Stato (ore 11,06).'],\n",
       " ['PRESIDENTE',\n",
       "  '. Il Presidente del Consi-\\nglio dei Ministri, con lettera in data 29\\ndicembre 2016, pervenuta il 30 dicembre\\n2016, ha comunicato quanto segue: « Ono-\\nrevole Presidente, informo la S.V. che il\\nPresidente della Repubblica, con proprio\\ndecreto in data odierna, adottato su mia\\nproposta, sentito il Consiglio dei Ministri,\\nha nominato i seguenti Sottosegretari di\\nStato: alla Presidenza del Consiglio dei\\nMinistri: onorevole dottoressa Maria Te-\\nresa Amici; onorevole Gianclaudio Bressa;\\nonorevole dottor Sandro Gozi; senatore\\nLuciano Pizzetti; onorevole dottor Angelo\\nRughetti; per gli Affari esteri e la coope-\\nrazione internazionale: onorevole Vin-\\ncenzo Amendola; senatore dottor Bene-\\ndetto Della Vedova; dottor Mario Giro; per\\nl’Interno: onorevole dottor Gianpiero\\nBocci; senatore dottor Filippo Bubbico;\\ndottor Domenico Manzione; per la Giusti-\\nzia: senatrice Federica Chiavaroli; dottor\\nCosimo Maria Ferri; onorevole dottor\\nGennaro Migliore; per la Difesa: onorevole\\ndottor Gioacchino Alfano; onorevole dot-\\ntor Domenico Rossi; per l’Economia e le\\nfinanze: onorevole Pier Paolo Baretta;\\nonorevole dottor Luigi Casero; onorevole\\ndottoressa Paola De Micheli; dottor Enrico\\nMorando; per lo Sviluppo economico: ono-\\nrevole Teresa Bellanova; senatore dottor\\nAntonio Gentile; onorevole Antonello Gia-\\ncomelli; onorevole dottor Ivan Scalfarotto;\\nper le Politiche agricole alimentari e fo-\\nrestali: onorevole Giuseppe Castiglione; se-\\nnatore professor Andrea Olivero; per\\nl’Ambiente e la tutela del territorio e del\\nmare: signora Barbara Degani; onorevole\\ndottoressa Silvia Velo; per le Infrastrutture\\ne i trasporti: onorevole avvocato Umberto\\nDel Basso De Caro; senatore Riccardo\\nNencini; senatrice dottoressa Simona Vi-\\ncari; per il Lavoro e le politiche sociali:\\nonorevole Franca Biondelli; onorevole dot-\\ntor Luigi Bobba; senatore dottor Massimo\\nCassano; per l’Istruzione, l’università e la\\nricerca: dottor Vito De Filippo; senatrice\\nAngela D’Onghia; dottor Gabriele Tocca-\\nfondi; per i Beni e le attività culturali e il\\nturismo: onorevole dottoressa Dorina\\nBianchi; onorevole dottoressa Ilaria Carla\\nAnna Borletti Dell’Acqua Buitoni; onore-\\nvole dottor Antimo Cesaro; per la Salute:\\nonorevole Davide Faraone.\\nFirmato: Paolo Gentiloni ».\\nModifica nella composizione di gruppi\\nparlamentari (ore 11.08).'],\n",
       " ['PRESIDENTE',\n",
       "  '. Comunico che, con let-\\ntera pervenuta in data 29 dicembre 2016,\\nil deputato Bruno Murgia, già iscritto al\\ngruppo parlamentare Misto, ha dichiarato\\ndi aderire al gruppo parlamentare Fratelli\\nd’Italia-Alleanza Nazionale.\\nLa presidenza di tale gruppo, con let-\\ntera pervenuta in pari data, ha comunicato\\ndi aver accolto la richiesta.\\nOrdine del giorno\\ndella prossima seduta.'],\n",
       " ['PRESIDENTE',\n",
       "  '. Comunico l’ordine del\\ngiorno della prossima seduta.\\nLunedì 9 gennaio 2017, alle 15,30:\\n1. – Discussione sulle linee generali dei\\ndisegni di legge:\\nS. 1732 – Ratifica ed esecuzione\\ndell’Accordo di cooperazione nel settore\\ndella difesa tra il Governo della Repub-\\nblica italiana e l’Esecutivo della Repub-\\nblica dell’Angola, fatto a Roma il 19 no-\\nvembre 2013 (Approvato dal Senato) (C.\\n3946).\\nRelatori: Fedi, per la maggioranza;\\nGianluca Pini, di minoranza.\\nRatifica ed esecuzione dell’Accordo\\nsulla cooperazione e mutua assistenza am-\\nministrativa in materia doganale tra il\\nAtti Parlamentari — 2 — Camera dei Deputati\\nXVII LEGISLATURA — DISCUSSIONI — SEDUTA DEL 4 GENNAIO 2017 — N. 719\\nGoverno della Repubblica italiana e il\\nGoverno della Repubblica socialista del\\nVietnam, fatto a Hanoi il 6 novembre 2015\\n(C. 4039).\\nRelatore: Fedi.\\nS. 2525 – Ratifica ed esecuzione del\\nProtocollo al Trattato del Nord Atlantico\\nsull’adesione del Montenegro, fatto a Bru-\\nxelles il 19 maggio 2016 (Approvato dal\\nSenato) (C. 4108).\\nRelatori: Manciulli, per la maggioranza;\\nGianluca Pini, di minoranza.\\n2. – Discussione sulle linee generali\\ndella mozione Brunetta e Laffranco n. 1-\\n01452 concernente iniziative in relazione\\nalla crisi del sistema bancario.\\n3. – Discussione sulle linee generali\\ndella proposta di legge costituzionale:'],\n",
       " ['ALFREIDER',\n",
       "  'ed altri: Modifiche allo\\nstatuto speciale per il Trentino-Alto Adige\\nin materia di tutela della minoranza lin-\\nguistica ladina della provincia di Bolzano\\n(C. 56-A).\\nRelatore: Francesco Sanna.\\nLa seduta termina alle 11,10.\\nIL CONSIGLIERE CAPO\\nDEL SERVIZIO RESOCONTI\\nESTENSORE DEL PROCESSO VERBALE\\nDOTT. RENZO DICKMANN\\nLicenziato per la stampa alle 13.\\nAtti Parlamentari — 3 — Camera dei Deputati\\nXVII LEGISLATURA — DISCUSSIONI — SEDUTA DEL 4 GENNAIO 2017 — N. 719\\n']]"
      ]
     },
     "execution_count": 16,
     "metadata": {},
     "output_type": "execute_result"
    }
   ],
   "source": [
    "discorsi"
   ]
  },
  {
   "cell_type": "markdown",
   "metadata": {
    "colab_type": "text",
    "id": "iYWDJoc43mUs"
   },
   "source": [
    "We apply now this reasoning on the whole dataset."
   ]
  },
  {
   "cell_type": "code",
   "execution_count": 17,
   "metadata": {
    "colab": {},
    "colab_type": "code",
    "id": "GSQ-nOcX3qiW"
   },
   "outputs": [],
   "source": [
    "discorsi = []\n",
    "\n",
    "def estrattore_discorso(x):\n",
    "    pattern = r\"(?:\\n)+(\\b[A-Z ]+\\b)\"\n",
    "    l = re.finditer(pattern, x.testo_seduta)\n",
    "  \n",
    "    custom_stopwords = ['LEGISLATURA', 'PAGINA BIANCA', 'STENOGRAFICO', 'STENOGRAFIA', 'TIPOGRAFIA', 'DISCUSSIONI', 'SEDUTA', 'VOTAZIONI', 'DISCUS']\n",
    "  \n",
    "    results = []\n",
    "    for match in l:\n",
    "        name = str(match.group(0)).strip()\n",
    "\n",
    "        if name != '\\\\n' and (len(name) > 1) and not any(x in name for x in custom_stopwords) and not isRomanNumber(name):\n",
    "            results.append([name, match.start(), match.end()])\n",
    "\n",
    "    toRemove = []\n",
    "    for i, item in enumerate(results):\n",
    "        if i+1 < len(results):\n",
    "            if item[2] == results[i+1][1]:\n",
    "                if i not in toRemove:\n",
    "                    toRemove.append(i)\n",
    "                if i+1 not in toRemove:\n",
    "                    toRemove.append(i+1)\n",
    "\n",
    "    [results.pop(i) for i in sorted(toRemove, reverse=True)]\n",
    "\n",
    "    for i, item in enumerate(results):\n",
    "        if i+1 < len(results):\n",
    "            discorso = x.testo_seduta[item[2]:results[i+1][1]]\n",
    "        elif i+1 == len(results):\n",
    "            discorso = x.testo_seduta[item[2]:]\n",
    "\n",
    "        discorsi.append([x.convocationid, item[0], discorso.strip()])"
   ]
  },
  {
   "cell_type": "code",
   "execution_count": 18,
   "metadata": {
    "colab": {
     "base_uri": "https://localhost:8080/",
     "height": 247
    },
    "colab_type": "code",
    "id": "_z26L5FH47w6",
    "outputId": "1961c438-0b8c-44c2-baed-d3d8fa3a120c"
   },
   "outputs": [
    {
     "name": "stderr",
     "output_type": "stream",
     "text": [
      "100%|██████████| 3736/3736 [01:09<00:00, 53.86it/s] \n"
     ]
    },
    {
     "data": {
      "text/plain": [
       "0       None\n",
       "1       None\n",
       "2       None\n",
       "3       None\n",
       "4       None\n",
       "        ... \n",
       "3731    None\n",
       "3732    None\n",
       "3733    None\n",
       "3734    None\n",
       "3735    None\n",
       "Length: 3736, dtype: object"
      ]
     },
     "execution_count": 18,
     "metadata": {},
     "output_type": "execute_result"
    }
   ],
   "source": [
    "dataset.progress_apply(estrattore_discorso, axis=1)"
   ]
  },
  {
   "cell_type": "code",
   "execution_count": 19,
   "metadata": {
    "colab": {},
    "colab_type": "code",
    "id": "1lxDQMnS5AyN"
   },
   "outputs": [],
   "source": [
    "df_discorsi = pd.DataFrame(discorsi, columns=['convocationid', 'deputato', 'discorso'])"
   ]
  },
  {
   "cell_type": "code",
   "execution_count": 20,
   "metadata": {
    "colab": {
     "base_uri": "https://localhost:8080/",
     "height": 356
    },
    "colab_type": "code",
    "id": "aP6vavVc57ei",
    "outputId": "d5875f86-bcae-4da2-a1cf-75f330901bd1"
   },
   "outputs": [
    {
     "data": {
      "text/html": [
       "<div>\n",
       "<style scoped>\n",
       "    .dataframe tbody tr th:only-of-type {\n",
       "        vertical-align: middle;\n",
       "    }\n",
       "\n",
       "    .dataframe tbody tr th {\n",
       "        vertical-align: top;\n",
       "    }\n",
       "\n",
       "    .dataframe thead th {\n",
       "        text-align: right;\n",
       "    }\n",
       "</style>\n",
       "<table border=\"1\" class=\"dataframe\">\n",
       "  <thead>\n",
       "    <tr style=\"text-align: right;\">\n",
       "      <th></th>\n",
       "      <th>convocationid</th>\n",
       "      <th>deputato</th>\n",
       "      <th>discorso</th>\n",
       "    </tr>\n",
       "  </thead>\n",
       "  <tbody>\n",
       "    <tr>\n",
       "      <th>0</th>\n",
       "      <td>14593</td>\n",
       "      <td>PRESIDENTE</td>\n",
       "      <td>. Con!unico che hanno chic- \\nsto congedo i cl...</td>\n",
       "    </tr>\n",
       "    <tr>\n",
       "      <th>1</th>\n",
       "      <td>14593</td>\n",
       "      <td>PRESIDENTE</td>\n",
       "      <td>. L’ordine del giorno reca \\nil seguito della ...</td>\n",
       "    </tr>\n",
       "    <tr>\n",
       "      <th>2</th>\n",
       "      <td>14593</td>\n",
       "      <td>VIVIANI LUCIANA</td>\n",
       "      <td>. Onorevole Mini- \\nstro (mi rivolgo a lei, vi...</td>\n",
       "    </tr>\n",
       "    <tr>\n",
       "      <th>3</th>\n",
       "      <td>14593</td>\n",
       "      <td>SCELBA</td>\n",
       "      <td>, Minis t ro  dell’interno. Il Mini- \\nstero d...</td>\n",
       "    </tr>\n",
       "    <tr>\n",
       "      <th>4</th>\n",
       "      <td>14593</td>\n",
       "      <td>VIVIANI LUCIANA</td>\n",
       "      <td>. L a  circolare, co- \\nmunque, del 1944, fu  ...</td>\n",
       "    </tr>\n",
       "    <tr>\n",
       "      <th>5</th>\n",
       "      <td>14593</td>\n",
       "      <td>SCELBA</td>\n",
       "      <td>, Mini s t ro  dell’interno. Non è \\npiù in vi...</td>\n",
       "    </tr>\n",
       "    <tr>\n",
       "      <th>6</th>\n",
       "      <td>14593</td>\n",
       "      <td>VIVIANI LUCIANA</td>\n",
       "      <td>. I1 passaggio è av- \\nvenuto molto recentemen...</td>\n",
       "    </tr>\n",
       "    <tr>\n",
       "      <th>7</th>\n",
       "      <td>14593</td>\n",
       "      <td>C O S</td>\n",
       "      <td>~  l’assistenza, ogni giorno piii, diventa \\na...</td>\n",
       "    </tr>\n",
       "    <tr>\n",
       "      <th>8</th>\n",
       "      <td>14593</td>\n",
       "      <td>GIUNTOLI GRAZTA</td>\n",
       "      <td>. L’abbiamo inter- \\nrogata abbastanza! Ma  qu...</td>\n",
       "    </tr>\n",
       "    <tr>\n",
       "      <th>9</th>\n",
       "      <td>14593</td>\n",
       "      <td>VIVIANI LUCTANA</td>\n",
       "      <td>. Bastava conside- \\nrare, care colleghe, nel ...</td>\n",
       "    </tr>\n",
       "  </tbody>\n",
       "</table>\n",
       "</div>"
      ],
      "text/plain": [
       "   convocationid         deputato  \\\n",
       "0          14593       PRESIDENTE   \n",
       "1          14593       PRESIDENTE   \n",
       "2          14593  VIVIANI LUCIANA   \n",
       "3          14593           SCELBA   \n",
       "4          14593  VIVIANI LUCIANA   \n",
       "5          14593           SCELBA   \n",
       "6          14593  VIVIANI LUCIANA   \n",
       "7          14593            C O S   \n",
       "8          14593  GIUNTOLI GRAZTA   \n",
       "9          14593  VIVIANI LUCTANA   \n",
       "\n",
       "                                            discorso  \n",
       "0  . Con!unico che hanno chic- \\nsto congedo i cl...  \n",
       "1  . L’ordine del giorno reca \\nil seguito della ...  \n",
       "2  . Onorevole Mini- \\nstro (mi rivolgo a lei, vi...  \n",
       "3  , Minis t ro  dell’interno. Il Mini- \\nstero d...  \n",
       "4  . L a  circolare, co- \\nmunque, del 1944, fu  ...  \n",
       "5  , Mini s t ro  dell’interno. Non è \\npiù in vi...  \n",
       "6  . I1 passaggio è av- \\nvenuto molto recentemen...  \n",
       "7  ~  l’assistenza, ogni giorno piii, diventa \\na...  \n",
       "8  . L’abbiamo inter- \\nrogata abbastanza! Ma  qu...  \n",
       "9  . Bastava conside- \\nrare, care colleghe, nel ...  "
      ]
     },
     "execution_count": 20,
     "metadata": {},
     "output_type": "execute_result"
    }
   ],
   "source": [
    "df_discorsi.head(10)"
   ]
  },
  {
   "cell_type": "code",
   "execution_count": 21,
   "metadata": {
    "colab": {
     "base_uri": "https://localhost:8080/",
     "height": 194
    },
    "colab_type": "code",
    "id": "_fqyc3F-8AzB",
    "outputId": "e1a2cc3d-36dc-469d-a9ee-b92f9cb28620"
   },
   "outputs": [
    {
     "name": "stdout",
     "output_type": "stream",
     "text": [
      "<class 'pandas.core.frame.DataFrame'>\n",
      "RangeIndex: 806960 entries, 0 to 806959\n",
      "Data columns (total 3 columns):\n",
      " #   Column         Non-Null Count   Dtype \n",
      "---  ------         --------------   ----- \n",
      " 0   convocationid  806960 non-null  int64 \n",
      " 1   deputato       806960 non-null  object\n",
      " 2   discorso       806960 non-null  object\n",
      "dtypes: int64(1), object(2)\n",
      "memory usage: 18.5+ MB\n"
     ]
    }
   ],
   "source": [
    "df_discorsi.info()"
   ]
  }
 ],
 "metadata": {
  "colab": {
   "collapsed_sections": [],
   "name": "gender_politics.ipynb",
   "provenance": [],
   "toc_visible": true
  },
  "kernelspec": {
   "display_name": "Python 3",
   "language": "python",
   "name": "python3"
  },
  "language_info": {
   "codemirror_mode": {
    "name": "ipython",
    "version": 3
   },
   "file_extension": ".py",
   "mimetype": "text/x-python",
   "name": "python",
   "nbconvert_exporter": "python",
   "pygments_lexer": "ipython3",
   "version": "3.7.6"
  }
 },
 "nbformat": 4,
 "nbformat_minor": 1
}
